{
 "cells": [
  {
   "cell_type": "code",
   "execution_count": 71,
   "metadata": {},
   "outputs": [
    {
     "name": "stdout",
     "output_type": "stream",
     "text": [
      "Accuracy: 1.00\n",
      "\n",
      "Classification Report:\n",
      "\n",
      "              precision    recall  f1-score   support\n",
      "\n",
      "           0       1.00      1.00      1.00       774\n",
      "           1       1.00      1.00      1.00       716\n",
      "           2       1.00      1.00      1.00       725\n",
      "           3       1.00      1.00      1.00       370\n",
      "           4       1.00      1.00      1.00       333\n",
      "\n",
      "    accuracy                           1.00      2918\n",
      "   macro avg       1.00      1.00      1.00      2918\n",
      "weighted avg       1.00      1.00      1.00      2918\n",
      "\n",
      "Sample Decoded Predictions: ['Brisk walking, cycling, swimming, running , or dancing.'\n",
      " 'Squats, deadlifts, bench presses, and overhead presses'\n",
      " 'Squats, yoga, deadlifts, bench presses, and overhead presses'\n",
      " 'Walking, Yoga, Swimming.'\n",
      " 'Squats, deadlifts, bench presses, and overhead presses']\n"
     ]
    }
   ],
   "source": [
    "import pandas as pd\n",
    "from sklearn.model_selection import train_test_split\n",
    "from sklearn.ensemble import RandomForestClassifier\n",
    "from sklearn.preprocessing import LabelEncoder\n",
    "from sklearn.metrics import classification_report, accuracy_score\n",
    "\n",
    "# Load the dataset\n",
    "data = pd.read_csv('New_gym_recommendation.csv')\n",
    "\n",
    "# Drop unnecessary columns (e.g., 'ID' or 'Recommendation' if not needed for prediction)\n",
    "data = data.drop(['ID', 'Recommendation'], axis=1)\n",
    "\n",
    "# Encode categorical variables using LabelEncoder\n",
    "label_encoders = {}\n",
    "for column in data.select_dtypes(include=['object']).columns:\n",
    "    le = LabelEncoder()\n",
    "    data[column] = le.fit_transform(data[column])\n",
    "    label_encoders[column] = le\n",
    "\n",
    "# Separate features (X) and target (y)\n",
    "X = data.drop('Exercises', axis=1)\n",
    "y = data['Exercises']\n",
    "\n",
    "# Split the data into training and testing sets\n",
    "X_train, X_test, y_train, y_test = train_test_split(X, y, test_size=0.2, random_state=42)\n",
    "\n",
    "# Train a Random Forest Classifier\n",
    "model = RandomForestClassifier(random_state=42)\n",
    "model.fit(X_train, y_train)\n",
    "\n",
    "# Make predictions\n",
    "y_pred = model.predict(X_test)\n",
    "\n",
    "# Evaluate the model\n",
    "accuracy = accuracy_score(y_test, y_pred)\n",
    "print(f\"Accuracy: {accuracy:.2f}\")\n",
    "print(\"\\nClassification Report:\\n\")\n",
    "print(classification_report(y_test, y_pred))\n",
    "\n",
    "# Example of decoding predictions back to original labels (if needed)\n",
    "exercise_decoder = label_encoders['Exercises']\n",
    "decoded_predictions = exercise_decoder.inverse_transform(y_pred[:5])\n",
    "print(\"Sample Decoded Predictions:\", decoded_predictions)\n"
   ]
  },
  {
   "cell_type": "code",
   "execution_count": 72,
   "metadata": {},
   "outputs": [
    {
     "name": "stdout",
     "output_type": "stream",
     "text": [
      "Accuracy: 1.00\n",
      "Classification Report:\n",
      "               precision    recall  f1-score   support\n",
      "\n",
      "           0       1.00      1.00      1.00       774\n",
      "           1       1.00      1.00      1.00       716\n",
      "           2       1.00      1.00      1.00       725\n",
      "           3       1.00      1.00      1.00       370\n",
      "           4       1.00      1.00      1.00       333\n",
      "\n",
      "    accuracy                           1.00      2918\n",
      "   macro avg       1.00      1.00      1.00      2918\n",
      "weighted avg       1.00      1.00      1.00      2918\n",
      "\n"
     ]
    }
   ],
   "source": [
    "y_pred = model.predict(X_test)\n",
    "accuracy = accuracy_score(y_test, y_pred)\n",
    "print(f\"Accuracy: {accuracy:.2f}\")\n",
    "print(\"Classification Report:\\n\", classification_report(y_test, y_pred))\n"
   ]
  },
  {
   "cell_type": "code",
   "execution_count": 73,
   "metadata": {},
   "outputs": [
    {
     "name": "stdout",
     "output_type": "stream",
     "text": [
      "Model and encoders saved successfully!\n"
     ]
    }
   ],
   "source": [
    "import joblib\n",
    "\n",
    "# Save the model\n",
    "joblib.dump(model, 'exercise_prediction_model.pkl')\n",
    "\n",
    "# Save the label encoders\n",
    "joblib.dump(label_encoders, 'label_encoders.pkl')\n",
    "\n",
    "print(\"Model and encoders saved successfully!\")\n"
   ]
  },
  {
   "cell_type": "code",
   "execution_count": 74,
   "metadata": {},
   "outputs": [
    {
     "name": "stdout",
     "output_type": "stream",
     "text": [
      "Decoded Predictions: ['Brisk walking, cycling, swimming, running , or dancing.'\n",
      " 'Squats, deadlifts, bench presses, and overhead presses'\n",
      " 'Squats, yoga, deadlifts, bench presses, and overhead presses'\n",
      " 'Walking, Yoga, Swimming.'\n",
      " 'Squats, deadlifts, bench presses, and overhead presses']\n"
     ]
    }
   ],
   "source": [
    "# Load the model\n",
    "loaded_model = joblib.load('exercise_prediction_model.pkl')\n",
    "\n",
    "# Load the label encoders\n",
    "loaded_label_encoders = joblib.load('label_encoders.pkl')\n",
    "\n",
    "# Make predictions using the loaded model\n",
    "sample_data = X_test.iloc[:5]  # Example test data\n",
    "sample_predictions = loaded_model.predict(sample_data)\n",
    "\n",
    "# Decode the predictions back to original labels\n",
    "exercise_decoder = loaded_label_encoders['Exercises']\n",
    "decoded_predictions = exercise_decoder.inverse_transform(sample_predictions)\n",
    "print(\"Decoded Predictions:\", decoded_predictions)\n"
   ]
  },
  {
   "cell_type": "code",
   "execution_count": null,
   "metadata": {},
   "outputs": [],
   "source": []
  },
  {
   "cell_type": "code",
   "execution_count": null,
   "metadata": {},
   "outputs": [],
   "source": []
  }
 ],
 "metadata": {
  "kernelspec": {
   "display_name": "Python 3",
   "language": "python",
   "name": "python3"
  },
  "language_info": {
   "codemirror_mode": {
    "name": "ipython",
    "version": 3
   },
   "file_extension": ".py",
   "mimetype": "text/x-python",
   "name": "python",
   "nbconvert_exporter": "python",
   "pygments_lexer": "ipython3",
   "version": "3.12.8"
  }
 },
 "nbformat": 4,
 "nbformat_minor": 2
}
